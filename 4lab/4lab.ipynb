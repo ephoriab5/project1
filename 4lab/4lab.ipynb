{
 "cells": [
  {
   "cell_type": "markdown",
   "id": "b7ac09db",
   "metadata": {},
   "source": [
    "# Типи даних в Python \n",
    "- str\n",
    "- int\n",
    "- float\n",
    "- NoneType\n",
    "- list\n",
    "- dict\n",
    "\n"
   ]
  },
  {
   "cell_type": "code",
   "execution_count": 8,
   "id": "4a73568d",
   "metadata": {},
   "outputs": [
    {
     "name": "stdout",
     "output_type": "stream",
     "text": [
      "Ruslan Yablonskyi\n"
     ]
    }
   ],
   "source": [
    "a = 'Ruslan'\n",
    "b = 'Yablonskyi'\n",
    "c = a + ' ' + b\n",
    "print(c)"
   ]
  },
  {
   "cell_type": "code",
   "execution_count": 9,
   "id": "ce66e8b4",
   "metadata": {},
   "outputs": [
    {
     "name": "stdout",
     "output_type": "stream",
     "text": [
      "3\n"
     ]
    }
   ],
   "source": [
    "a = 1\n",
    "b = 2\n",
    "c = a + b\n",
    "print(c)"
   ]
  },
  {
   "cell_type": "code",
   "execution_count": 10,
   "id": "5e212815",
   "metadata": {},
   "outputs": [
    {
     "name": "stdout",
     "output_type": "stream",
     "text": [
      "16.0\n"
     ]
    }
   ],
   "source": [
    "a = 15.99\n",
    "b = 0.01\n",
    "c = a + b\n",
    "print(c)"
   ]
  },
  {
   "cell_type": "code",
   "execution_count": 11,
   "id": "5f2adf16",
   "metadata": {},
   "outputs": [
    {
     "name": "stdout",
     "output_type": "stream",
     "text": [
      "загальна к-сть бочок: 22\n"
     ]
    }
   ],
   "source": [
    "import random\n",
    "\n",
    "vine_barrel = random.choice([None, 5])\n",
    "beer_barrel = random.choice([None, 7])\n",
    "bourbon_barrel = random.choice([None, 10])\n",
    "\n",
    "total_barrels = 0\n",
    "\n",
    "if vine_barrel is not None:\n",
    "    total_barrels = total_barrels + vine_barrel\n",
    "else:\n",
    "    print('нема бочок з вином')\n",
    "    \n",
    "if beer_barrel is not None:\n",
    "    total_barrels = total_barrels + beer_barrel\n",
    "else:\n",
    "    print('нема бочок з пивом')\n",
    "\n",
    "if bourbon_barrel is not None:\n",
    "    total_barrels = total_barrels + bourbon_barrel\n",
    "else:\n",
    "    print('нема бочок з бурбоном')\n",
    "print('загальна к-сть бочок:', total_barrels)"
   ]
  },
  {
   "cell_type": "code",
   "execution_count": 12,
   "id": "c3916d18",
   "metadata": {},
   "outputs": [
    {
     "name": "stdout",
     "output_type": "stream",
     "text": [
      "(['apple', 'banana', 'cherry'], [1, 2, 3, 4, 5])\n",
      "first fruit: apple\n",
      "second number: 2\n",
      "last fruit: orange\n",
      "updated first fruit: blueberry\n",
      "к-сть елементів: 2\n"
     ]
    }
   ],
   "source": [
    "\n",
    "\n",
    "fruits = ['apple', 'banana', 'cherry']\n",
    "numbers = [1, 2, 3, 4, 5]\n",
    "mixed = fruits, numbers\n",
    "print(mixed)\n",
    "\n",
    "print(f'first fruit: {fruits[0]}')\n",
    "print(f'second number: {numbers[1]}')\n",
    "\n",
    "fruits.append('orange')\n",
    "print(f'last fruit: {fruits[-1]}')\n",
    "\n",
    "fruits[0] = 'blueberry'\n",
    "print(f'updated first fruit: {fruits[0]}')\n",
    "\n",
    "print(f'к-сть елементів: {len(mixed)}')\n",
    "\n",
    "\n"
   ]
  },
  {
   "cell_type": "code",
   "execution_count": 13,
   "id": "43d0ce42",
   "metadata": {},
   "outputs": [
    {
     "name": "stdout",
     "output_type": "stream",
     "text": [
      "{'apple': 20, 'banana': 30, 'cherry': 180, 'orange': 70}\n",
      "{'apple': 20, 'cherry': 180, 'orange': 70}\n",
      "{}\n",
      "{'apple': 20, 'banana': 30, 'cherry': 180}\n",
      "The price of apple is 20\n",
      "The price of banana is 30\n",
      "The price of cherry is 180\n"
     ]
    }
   ],
   "source": [
    "a = {'apple': 20, 'banana': 30, 'cherry': 180}\n",
    "a['orange'] = 70\n",
    "print(a)\n",
    "\n",
    "a.pop('banana')\n",
    "print(a)\n",
    "\n",
    "a.clear()\n",
    "print(a)\n",
    "\n",
    "a.update({'apple': 20, 'banana': 30, 'cherry': 180})\n",
    "print(a)\n",
    "\n",
    "for fruit, price in a.items():\n",
    "    print(f'The price of {fruit} is {price}')\n",
    "    \n"
   ]
  },
  {
   "cell_type": "markdown",
   "id": "eec2554a",
   "metadata": {},
   "source": [
    "# Вбудовані константи,зарезервовані слова\n",
    "- Вбудовані константи\n",
    "- Зарезервовані слова"
   ]
  },
  {
   "cell_type": "code",
   "execution_count": 14,
   "id": "f9c1e310",
   "metadata": {},
   "outputs": [
    {
     "name": "stdout",
     "output_type": "stream",
     "text": [
      "Ви неповнолітній\n",
      "Доступ до контенту обмежено.\n"
     ]
    }
   ],
   "source": [
    "age = int(input('Введіть ваш вік: '))\n",
    "if age < 18:\n",
    "    is_minor = True\n",
    "    print('Ви неповнолітній')\n",
    "else:\n",
    "    is_minor = False\n",
    "    print('Ви повнолітній')\n",
    "\n",
    "if is_minor:\n",
    "    print('Доступ до контенту обмежено.')\n",
    "else:\n",
    "    print('Доступ до контенту дозволено.')\n",
    "    "
   ]
  },
  {
   "cell_type": "code",
   "execution_count": 15,
   "id": "5d5f5e10",
   "metadata": {},
   "outputs": [
    {
     "name": "stdout",
     "output_type": "stream",
     "text": [
      "мій клас\n",
      "спроба\n"
     ]
    }
   ],
   "source": [
    "#class = 'мій клас - помилка\n",
    "#print(class) - помилка\n",
    " \n",
    "myclass = 'мій клас'\n",
    "print(myclass)\n",
    "\n",
    "#try = 'спроба' - помилка\n",
    "#print(try) - помилка\n",
    "\n",
    "a = 'спроба'\n",
    "print(a)\n"
   ]
  },
  {
   "cell_type": "markdown",
   "id": "0ebd8d4a",
   "metadata": {},
   "source": [
    "# Вбудовані ф-ї \n",
    "- len\n",
    "- print\n",
    "- input\n",
    "- type\n"
   ]
  },
  {
   "cell_type": "code",
   "execution_count": 16,
   "id": "e539d97a",
   "metadata": {},
   "outputs": [
    {
     "name": "stdout",
     "output_type": "stream",
     "text": [
      "5\n"
     ]
    }
   ],
   "source": [
    "a = [1, 2, 3, 4, 5]\n",
    "print(len(a)) # виведе довжину списку a, тобто 5"
   ]
  },
  {
   "cell_type": "code",
   "execution_count": 17,
   "id": "097383b0",
   "metadata": {},
   "outputs": [
    {
     "name": "stdout",
     "output_type": "stream",
     "text": [
      "Hello World\n"
     ]
    }
   ],
   "source": [
    "a = 'Hello World'\n",
    "print(a)"
   ]
  },
  {
   "cell_type": "code",
   "execution_count": 18,
   "id": "bc388ab7",
   "metadata": {},
   "outputs": [
    {
     "name": "stdout",
     "output_type": "stream",
     "text": [
      "Привіт, Ruslan!\n"
     ]
    }
   ],
   "source": [
    "a = input('Введіть ваше ім\\'я: ')\n",
    "print('Привіт, ' + a + '!')"
   ]
  },
  {
   "cell_type": "code",
   "execution_count": 19,
   "id": "5f5f9b97",
   "metadata": {},
   "outputs": [
    {
     "name": "stdout",
     "output_type": "stream",
     "text": [
      "<class 'int'>\n",
      "<class 'str'>\n",
      "<class 'float'>\n"
     ]
    }
   ],
   "source": [
    "a = 5\n",
    "b = 'q'\n",
    "c = 3.14\n",
    "\n",
    "print(type(a))  \n",
    "print(type(b))  \n",
    "print(type(c))  "
   ]
  },
  {
   "cell_type": "markdown",
   "id": "10ff5e75",
   "metadata": {},
   "source": [
    "# Цикли в Python\n"
   ]
  },
  {
   "cell_type": "code",
   "execution_count": 2,
   "id": "029f3681",
   "metadata": {},
   "outputs": [
    {
     "name": "stdout",
     "output_type": "stream",
     "text": [
      "0 - парне число\n",
      "2 - парне число\n",
      "4 - парне число\n",
      "Спробуйте ще раз.\n",
      "Спробуйте ще раз.\n",
      "Ви вгадали число!\n"
     ]
    },
    {
     "ename": "ValueError",
     "evalue": "invalid literal for int() with base 10: ''",
     "output_type": "error",
     "traceback": [
      "\u001b[31m---------------------------------------------------------------------------\u001b[39m",
      "\u001b[31mValueError\u001b[39m                                Traceback (most recent call last)",
      "\u001b[36mCell\u001b[39m\u001b[36m \u001b[39m\u001b[32mIn[2]\u001b[39m\u001b[32m, line 7\u001b[39m\n\u001b[32m      5\u001b[39m \u001b[38;5;28;01mimport\u001b[39;00m\u001b[38;5;250m \u001b[39m\u001b[34;01mrandom\u001b[39;00m\n\u001b[32m      6\u001b[39m \u001b[38;5;28;01mfor\u001b[39;00m i \u001b[38;5;129;01min\u001b[39;00m \u001b[38;5;28mrange\u001b[39m(\u001b[32m0\u001b[39m,\u001b[32m20\u001b[39m):\n\u001b[32m----> \u001b[39m\u001b[32m7\u001b[39m     i = \u001b[38;5;28;43mint\u001b[39;49m\u001b[43m(\u001b[49m\u001b[38;5;28;43minput\u001b[39;49m\u001b[43m(\u001b[49m\u001b[33;43m'\u001b[39;49m\u001b[33;43mВведіть число: \u001b[39;49m\u001b[33;43m'\u001b[39;49m\u001b[43m)\u001b[49m\u001b[43m)\u001b[49m\n\u001b[32m      8\u001b[39m     \u001b[38;5;28;01mif\u001b[39;00m i == random.randint(\u001b[32m0\u001b[39m,\u001b[32m5\u001b[39m):\n\u001b[32m      9\u001b[39m         \u001b[38;5;28mprint\u001b[39m(\u001b[33m'\u001b[39m\u001b[33mВи вгадали число!\u001b[39m\u001b[33m'\u001b[39m)\n",
      "\u001b[31mValueError\u001b[39m: invalid literal for int() with base 10: ''"
     ]
    }
   ],
   "source": [
    "for i in range(0,5):\n",
    "    if i % 2 == 0:\n",
    "        print(f'{i} - парне число')\n",
    "        \n",
    "import random\n",
    "for i in range(0,20):\n",
    "    i = int(input('Введіть число: '))\n",
    "    if i == random.randint(0,5):\n",
    "        print('Ви вгадали число!')\n",
    "    else:\n",
    "        print('Спробуйте ще раз.')\n"
   ]
  },
  {
   "cell_type": "markdown",
   "id": "1bc5dda7",
   "metadata": {},
   "source": [
    "# Конструкція try->except->finally\n"
   ]
  },
  {
   "cell_type": "code",
   "execution_count": null,
   "id": "9b852dd4",
   "metadata": {},
   "outputs": [
    {
     "name": "stdout",
     "output_type": "stream",
     "text": [
      "Помилка: ділення на нуль неможливе.\n",
      "Дякуємо за використання нашої програми.\n"
     ]
    }
   ],
   "source": [
    "try:\n",
    "    a = int(input('Введіть ціле число: '))\n",
    "    b = 10 / a\n",
    "    print(f'Результат ділення 10 на {a} дорівнює {b}')\n",
    "except ValueError:\n",
    "    print('Помилка: введено не ціле число.')\n",
    "except ZeroDivisionError:\n",
    "    print('Помилка: ділення на нуль неможливе.')\n",
    "finally:\n",
    "    print('Дякуємо за використання нашої програми.')"
   ]
  },
  {
   "cell_type": "markdown",
   "id": "a57a01bb",
   "metadata": {},
   "source": [
    "# Конструкція with\n",
    "- Відкриття фалйу 4lab.txt та спроба записати туда данні\n"
   ]
  },
  {
   "cell_type": "code",
   "execution_count": null,
   "id": "ab6e12cd",
   "metadata": {},
   "outputs": [
    {
     "name": "stdout",
     "output_type": "stream",
     "text": [
      "Test.\n",
      "Cool.\n",
      "\n"
     ]
    }
   ],
   "source": [
    "f = open('4lab.txt' , 'w' , encoding='utf-8')\n",
    "with f:\n",
    "    f.write('Test.\\n')\n",
    "    f.write('Cool.\\n')\n",
    "\n",
    "    \n",
    "\n",
    "a = open('4lab.txt', 'r')\n",
    "with a:\n",
    "    content = a.read()\n",
    "    print(content)\n",
    "\n",
    "c = open('4lab.txt', 'w')\n",
    "f = 5\n",
    "b = 10\n",
    "with c:\n",
    "    c.write(f'result =  {f + b}\\n')\n",
    "    \n"
   ]
  },
  {
   "cell_type": "markdown",
   "id": "cc9a9ab6",
   "metadata": {},
   "source": [
    "# Lamda \n"
   ]
  },
  {
   "cell_type": "code",
   "execution_count": null,
   "id": "921b16c2",
   "metadata": {},
   "outputs": [
    {
     "name": "stdout",
     "output_type": "stream",
     "text": [
      "15\n",
      "6\n"
     ]
    }
   ],
   "source": [
    "a = 5\n",
    "b = 10\n",
    "result = lambda a, b: a + b\n",
    "print(result(a, b))\n",
    "\n",
    "f = 12\n",
    "d = 6\n",
    "result = lambda f, d: f - d\n",
    "print(result(f, d))\n",
    "\n"
   ]
  }
 ],
 "metadata": {
  "kernelspec": {
   "display_name": "Python 3",
   "language": "python",
   "name": "python3"
  },
  "language_info": {
   "codemirror_mode": {
    "name": "ipython",
    "version": 3
   },
   "file_extension": ".py",
   "mimetype": "text/x-python",
   "name": "python",
   "nbconvert_exporter": "python",
   "pygments_lexer": "ipython3",
   "version": "3.13.7"
  }
 },
 "nbformat": 4,
 "nbformat_minor": 5
}

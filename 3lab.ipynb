{
 "cells": [
  {
   "cell_type": "markdown",
   "id": "42fcfb28",
   "metadata": {},
   "source": [
    "### Моя перша програма та згенерована перша програма на PYTHON AI"
   ]
  },
  {
   "cell_type": "code",
   "execution_count": 6,
   "id": "e637a2c3",
   "metadata": {},
   "outputs": [
    {
     "name": "stdout",
     "output_type": "stream",
     "text": [
      "Я загадав число від 1 до 3. Спробуйте вгадати!\n",
      "Вітаю, ви вгадали!\n"
     ]
    }
   ],
   "source": [
    "import random\n",
    "\n",
    "def get_int(prompt):\n",
    "    while True:\n",
    "        try:\n",
    "            return int(input(prompt))\n",
    "        except ValueError:\n",
    "            print(\"Будь ласка, введіть ціле число!\")\n",
    "\n",
    "min_num = get_int(\"Введіть мінімальне число: \")\n",
    "max_num = get_int(\"Введіть максимальне число: \")\n",
    "secret = random.randint(min_num, max_num)\n",
    "\n",
    "print(f\"Я загадав число від {min_num} до {max_num}. Спробуйте вгадати!\")\n",
    "\n",
    "while True:\n",
    "    guess = get_int(\"Ваш варіант: \")\n",
    "    if guess < secret:\n",
    "        print(\"Занадто мало!\")\n",
    "    elif guess > secret:\n",
    "        print(\"Занадто багато!\")\n",
    "    else:\n",
    "        print(\"Вітаю, ви вгадали!\")\n",
    "        break"
   ]
  },
  {
   "cell_type": "code",
   "execution_count": 7,
   "id": "3ab4e5c8",
   "metadata": {},
   "outputs": [
    {
     "name": "stdout",
     "output_type": "stream",
     "text": [
      "Ruslan start programming at 2025-09-17 18:00:37.008211. Lviv is the best city!\n"
     ]
    }
   ],
   "source": [
    "from datetime import datetime\n",
    "name = \"Ruslan\"\n",
    "location = \"Lviv\"\n",
    "\n",
    "print(f\"{name} start programming at {datetime.now()}. {location} is the best city!\")"
   ]
  }
 ],
 "metadata": {
  "kernelspec": {
   "display_name": "Python 3",
   "language": "python",
   "name": "python3"
  },
  "language_info": {
   "codemirror_mode": {
    "name": "ipython",
    "version": 3
   },
   "file_extension": ".py",
   "mimetype": "text/x-python",
   "name": "python",
   "nbconvert_exporter": "python",
   "pygments_lexer": "ipython3",
   "version": "3.13.7"
  }
 },
 "nbformat": 4,
 "nbformat_minor": 5
}
